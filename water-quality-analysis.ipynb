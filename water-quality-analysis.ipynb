{
 "cells": [
  {
   "cell_type": "code",
   "execution_count": 1,
   "id": "341e2f4f",
   "metadata": {
    "_cell_guid": "b1076dfc-b9ad-4769-8c92-a6c4dae69d19",
    "_uuid": "8f2839f25d086af736a60e9eeb907d3b93b6e0e5",
    "execution": {
     "iopub.execute_input": "2024-07-30T14:20:20.676546Z",
     "iopub.status.busy": "2024-07-30T14:20:20.675931Z",
     "iopub.status.idle": "2024-07-30T14:20:21.483234Z",
     "shell.execute_reply": "2024-07-30T14:20:21.482445Z"
    },
    "papermill": {
     "duration": 0.816821,
     "end_time": "2024-07-30T14:20:21.485623",
     "exception": false,
     "start_time": "2024-07-30T14:20:20.668802",
     "status": "completed"
    },
    "tags": []
   },
   "outputs": [],
   "source": [
    "import pandas as pd\n",
    "df = pd.read_csv(\"/kaggle/input/water-potability/water_potability.csv\")"
   ]
  },
  {
   "cell_type": "code",
   "execution_count": 2,
   "id": "f218c81e",
   "metadata": {
    "execution": {
     "iopub.execute_input": "2024-07-30T14:20:21.499144Z",
     "iopub.status.busy": "2024-07-30T14:20:21.498824Z",
     "iopub.status.idle": "2024-07-30T14:20:21.522492Z",
     "shell.execute_reply": "2024-07-30T14:20:21.521618Z"
    },
    "papermill": {
     "duration": 0.032057,
     "end_time": "2024-07-30T14:20:21.524434",
     "exception": false,
     "start_time": "2024-07-30T14:20:21.492377",
     "status": "completed"
    },
    "tags": []
   },
   "outputs": [
    {
     "data": {
      "text/html": [
       "<div>\n",
       "<style scoped>\n",
       "    .dataframe tbody tr th:only-of-type {\n",
       "        vertical-align: middle;\n",
       "    }\n",
       "\n",
       "    .dataframe tbody tr th {\n",
       "        vertical-align: top;\n",
       "    }\n",
       "\n",
       "    .dataframe thead th {\n",
       "        text-align: right;\n",
       "    }\n",
       "</style>\n",
       "<table border=\"1\" class=\"dataframe\">\n",
       "  <thead>\n",
       "    <tr style=\"text-align: right;\">\n",
       "      <th></th>\n",
       "      <th>ph</th>\n",
       "      <th>Hardness</th>\n",
       "      <th>Solids</th>\n",
       "      <th>Chloramines</th>\n",
       "      <th>Sulfate</th>\n",
       "      <th>Conductivity</th>\n",
       "      <th>Organic_carbon</th>\n",
       "      <th>Trihalomethanes</th>\n",
       "      <th>Turbidity</th>\n",
       "      <th>Potability</th>\n",
       "    </tr>\n",
       "  </thead>\n",
       "  <tbody>\n",
       "    <tr>\n",
       "      <th>0</th>\n",
       "      <td>NaN</td>\n",
       "      <td>204.890455</td>\n",
       "      <td>20791.318981</td>\n",
       "      <td>7.300212</td>\n",
       "      <td>368.516441</td>\n",
       "      <td>564.308654</td>\n",
       "      <td>10.379783</td>\n",
       "      <td>86.990970</td>\n",
       "      <td>2.963135</td>\n",
       "      <td>0</td>\n",
       "    </tr>\n",
       "    <tr>\n",
       "      <th>1</th>\n",
       "      <td>3.716080</td>\n",
       "      <td>129.422921</td>\n",
       "      <td>18630.057858</td>\n",
       "      <td>6.635246</td>\n",
       "      <td>NaN</td>\n",
       "      <td>592.885359</td>\n",
       "      <td>15.180013</td>\n",
       "      <td>56.329076</td>\n",
       "      <td>4.500656</td>\n",
       "      <td>0</td>\n",
       "    </tr>\n",
       "    <tr>\n",
       "      <th>2</th>\n",
       "      <td>8.099124</td>\n",
       "      <td>224.236259</td>\n",
       "      <td>19909.541732</td>\n",
       "      <td>9.275884</td>\n",
       "      <td>NaN</td>\n",
       "      <td>418.606213</td>\n",
       "      <td>16.868637</td>\n",
       "      <td>66.420093</td>\n",
       "      <td>3.055934</td>\n",
       "      <td>0</td>\n",
       "    </tr>\n",
       "    <tr>\n",
       "      <th>3</th>\n",
       "      <td>8.316766</td>\n",
       "      <td>214.373394</td>\n",
       "      <td>22018.417441</td>\n",
       "      <td>8.059332</td>\n",
       "      <td>356.886136</td>\n",
       "      <td>363.266516</td>\n",
       "      <td>18.436524</td>\n",
       "      <td>100.341674</td>\n",
       "      <td>4.628771</td>\n",
       "      <td>0</td>\n",
       "    </tr>\n",
       "    <tr>\n",
       "      <th>4</th>\n",
       "      <td>9.092223</td>\n",
       "      <td>181.101509</td>\n",
       "      <td>17978.986339</td>\n",
       "      <td>6.546600</td>\n",
       "      <td>310.135738</td>\n",
       "      <td>398.410813</td>\n",
       "      <td>11.558279</td>\n",
       "      <td>31.997993</td>\n",
       "      <td>4.075075</td>\n",
       "      <td>0</td>\n",
       "    </tr>\n",
       "  </tbody>\n",
       "</table>\n",
       "</div>"
      ],
      "text/plain": [
       "         ph    Hardness        Solids  Chloramines     Sulfate  Conductivity  \\\n",
       "0       NaN  204.890455  20791.318981     7.300212  368.516441    564.308654   \n",
       "1  3.716080  129.422921  18630.057858     6.635246         NaN    592.885359   \n",
       "2  8.099124  224.236259  19909.541732     9.275884         NaN    418.606213   \n",
       "3  8.316766  214.373394  22018.417441     8.059332  356.886136    363.266516   \n",
       "4  9.092223  181.101509  17978.986339     6.546600  310.135738    398.410813   \n",
       "\n",
       "   Organic_carbon  Trihalomethanes  Turbidity  Potability  \n",
       "0       10.379783        86.990970   2.963135           0  \n",
       "1       15.180013        56.329076   4.500656           0  \n",
       "2       16.868637        66.420093   3.055934           0  \n",
       "3       18.436524       100.341674   4.628771           0  \n",
       "4       11.558279        31.997993   4.075075           0  "
      ]
     },
     "execution_count": 2,
     "metadata": {},
     "output_type": "execute_result"
    }
   ],
   "source": [
    "df.head()"
   ]
  },
  {
   "cell_type": "code",
   "execution_count": 3,
   "id": "d1acfdac",
   "metadata": {
    "execution": {
     "iopub.execute_input": "2024-07-30T14:20:21.537003Z",
     "iopub.status.busy": "2024-07-30T14:20:21.536489Z",
     "iopub.status.idle": "2024-07-30T14:20:21.541545Z",
     "shell.execute_reply": "2024-07-30T14:20:21.540464Z"
    },
    "papermill": {
     "duration": 0.013567,
     "end_time": "2024-07-30T14:20:21.543547",
     "exception": false,
     "start_time": "2024-07-30T14:20:21.529980",
     "status": "completed"
    },
    "tags": []
   },
   "outputs": [
    {
     "name": "stdout",
     "output_type": "stream",
     "text": [
      "3276\n"
     ]
    }
   ],
   "source": [
    "print(len(df))"
   ]
  },
  {
   "cell_type": "code",
   "execution_count": 4,
   "id": "521cd00a",
   "metadata": {
    "execution": {
     "iopub.execute_input": "2024-07-30T14:20:21.556210Z",
     "iopub.status.busy": "2024-07-30T14:20:21.555707Z",
     "iopub.status.idle": "2024-07-30T14:20:21.569322Z",
     "shell.execute_reply": "2024-07-30T14:20:21.568509Z"
    },
    "papermill": {
     "duration": 0.021956,
     "end_time": "2024-07-30T14:20:21.571128",
     "exception": false,
     "start_time": "2024-07-30T14:20:21.549172",
     "status": "completed"
    },
    "tags": []
   },
   "outputs": [
    {
     "data": {
      "text/plain": [
       "Potability\n",
       "0    1998\n",
       "1    1278\n",
       "Name: count, dtype: int64"
      ]
     },
     "execution_count": 4,
     "metadata": {},
     "output_type": "execute_result"
    }
   ],
   "source": [
    "df['Potability'].value_counts()"
   ]
  },
  {
   "cell_type": "code",
   "execution_count": 5,
   "id": "3e987f4f",
   "metadata": {
    "execution": {
     "iopub.execute_input": "2024-07-30T14:20:21.583902Z",
     "iopub.status.busy": "2024-07-30T14:20:21.583613Z",
     "iopub.status.idle": "2024-07-30T14:20:21.591486Z",
     "shell.execute_reply": "2024-07-30T14:20:21.590679Z"
    },
    "papermill": {
     "duration": 0.016362,
     "end_time": "2024-07-30T14:20:21.593357",
     "exception": false,
     "start_time": "2024-07-30T14:20:21.576995",
     "status": "completed"
    },
    "tags": []
   },
   "outputs": [
    {
     "data": {
      "text/plain": [
       "ph                 491\n",
       "Hardness             0\n",
       "Solids               0\n",
       "Chloramines          0\n",
       "Sulfate            781\n",
       "Conductivity         0\n",
       "Organic_carbon       0\n",
       "Trihalomethanes    162\n",
       "Turbidity            0\n",
       "Potability           0\n",
       "dtype: int64"
      ]
     },
     "execution_count": 5,
     "metadata": {},
     "output_type": "execute_result"
    }
   ],
   "source": [
    "df.isnull().sum()"
   ]
  },
  {
   "cell_type": "code",
   "execution_count": 6,
   "id": "338f81a5",
   "metadata": {
    "execution": {
     "iopub.execute_input": "2024-07-30T14:20:21.606350Z",
     "iopub.status.busy": "2024-07-30T14:20:21.605859Z",
     "iopub.status.idle": "2024-07-30T14:20:21.616971Z",
     "shell.execute_reply": "2024-07-30T14:20:21.616249Z"
    },
    "papermill": {
     "duration": 0.01965,
     "end_time": "2024-07-30T14:20:21.618831",
     "exception": false,
     "start_time": "2024-07-30T14:20:21.599181",
     "status": "completed"
    },
    "tags": []
   },
   "outputs": [],
   "source": [
    "df.fillna(df.median(), inplace=True)"
   ]
  },
  {
   "cell_type": "code",
   "execution_count": 7,
   "id": "917796a2",
   "metadata": {
    "execution": {
     "iopub.execute_input": "2024-07-30T14:20:21.631843Z",
     "iopub.status.busy": "2024-07-30T14:20:21.631371Z",
     "iopub.status.idle": "2024-07-30T14:20:21.638190Z",
     "shell.execute_reply": "2024-07-30T14:20:21.637362Z"
    },
    "papermill": {
     "duration": 0.015569,
     "end_time": "2024-07-30T14:20:21.640240",
     "exception": false,
     "start_time": "2024-07-30T14:20:21.624671",
     "status": "completed"
    },
    "tags": []
   },
   "outputs": [
    {
     "data": {
      "text/plain": [
       "ph                 0\n",
       "Hardness           0\n",
       "Solids             0\n",
       "Chloramines        0\n",
       "Sulfate            0\n",
       "Conductivity       0\n",
       "Organic_carbon     0\n",
       "Trihalomethanes    0\n",
       "Turbidity          0\n",
       "Potability         0\n",
       "dtype: int64"
      ]
     },
     "execution_count": 7,
     "metadata": {},
     "output_type": "execute_result"
    }
   ],
   "source": [
    "df.isnull().sum()"
   ]
  },
  {
   "cell_type": "code",
   "execution_count": 8,
   "id": "b84a3ae1",
   "metadata": {
    "execution": {
     "iopub.execute_input": "2024-07-30T14:20:21.654659Z",
     "iopub.status.busy": "2024-07-30T14:20:21.654011Z",
     "iopub.status.idle": "2024-07-30T14:20:21.671415Z",
     "shell.execute_reply": "2024-07-30T14:20:21.670403Z"
    },
    "papermill": {
     "duration": 0.026789,
     "end_time": "2024-07-30T14:20:21.673607",
     "exception": false,
     "start_time": "2024-07-30T14:20:21.646818",
     "status": "completed"
    },
    "tags": []
   },
   "outputs": [
    {
     "name": "stdout",
     "output_type": "stream",
     "text": [
      "            ph  Hardness    Solids  Chloramines   Sulfate  Conductivity  \\\n",
      "0     0.502625  0.571139  0.336096     0.543891  0.680385      0.669439   \n",
      "1     0.265434  0.297400  0.300611     0.491839  0.579704      0.719411   \n",
      "2     0.578509  0.641311  0.321619     0.698543  0.579704      0.414652   \n",
      "3     0.594055  0.605536  0.356244     0.603314  0.647347      0.317880   \n",
      "4     0.649445  0.484851  0.289922     0.484900  0.514545      0.379337   \n",
      "...        ...       ...       ...          ...       ...           ...   \n",
      "3271  0.333436  0.530482  0.775947     0.533436  0.656047      0.603192   \n",
      "3272  0.557775  0.530016  0.279263     0.603473  0.579704      0.368912   \n",
      "3273  0.672822  0.465486  0.539101     0.547807  0.579704      0.438152   \n",
      "3274  0.366197  0.664407  0.191490     0.465860  0.579704      0.387157   \n",
      "3275  0.562477  0.535635  0.280484     0.560259  0.579704      0.255266   \n",
      "\n",
      "      Organic_carbon  Trihalomethanes  Turbidity  Potability  \n",
      "0           0.313402         0.699753   0.286091         0.0  \n",
      "1           0.497319         0.450999   0.576793         0.0  \n",
      "2           0.562017         0.532866   0.303637         0.0  \n",
      "3           0.622089         0.808065   0.601015         0.0  \n",
      "4           0.358555         0.253606   0.496327         0.0  \n",
      "...              ...              ...        ...         ...  \n",
      "3271        0.448062         0.535037   0.564534         1.0  \n",
      "3272        0.678284         0.534508   0.254915         1.0  \n",
      "3273        0.338662         0.560655   0.349570         1.0  \n",
      "3274        0.343638         0.622659   0.616120         1.0  \n",
      "3275        0.534114         0.632478   0.162441         1.0  \n",
      "\n",
      "[3276 rows x 10 columns]\n"
     ]
    }
   ],
   "source": [
    "# Apply Min-Max normalization to scale values between 0 and 1\n",
    "df_normalized = (df - df.min()) / (df.max() - df.min())\n",
    "\n",
    "# Display the normalized DataFrame\n",
    "print(df_normalized)"
   ]
  },
  {
   "cell_type": "code",
   "execution_count": 9,
   "id": "543f8bb6",
   "metadata": {
    "execution": {
     "iopub.execute_input": "2024-07-30T14:20:21.688085Z",
     "iopub.status.busy": "2024-07-30T14:20:21.687697Z",
     "iopub.status.idle": "2024-07-30T14:20:21.694003Z",
     "shell.execute_reply": "2024-07-30T14:20:21.693119Z"
    },
    "papermill": {
     "duration": 0.015621,
     "end_time": "2024-07-30T14:20:21.696015",
     "exception": false,
     "start_time": "2024-07-30T14:20:21.680394",
     "status": "completed"
    },
    "tags": []
   },
   "outputs": [],
   "source": [
    "# Splitting into X and Y\n",
    "Y = df[\"Potability\"]  # Target variable\n",
    "X = df.drop(\"Potability\", axis=1)  # Predictor variables, dropping the target column"
   ]
  },
  {
   "cell_type": "code",
   "execution_count": 10,
   "id": "20c18a28",
   "metadata": {
    "execution": {
     "iopub.execute_input": "2024-07-30T14:20:21.709682Z",
     "iopub.status.busy": "2024-07-30T14:20:21.709026Z",
     "iopub.status.idle": "2024-07-30T14:20:22.784572Z",
     "shell.execute_reply": "2024-07-30T14:20:22.783522Z"
    },
    "papermill": {
     "duration": 1.084553,
     "end_time": "2024-07-30T14:20:22.786629",
     "exception": false,
     "start_time": "2024-07-30T14:20:21.702076",
     "status": "completed"
    },
    "tags": []
   },
   "outputs": [
    {
     "name": "stdout",
     "output_type": "stream",
     "text": [
      "X_train shape: (2620, 9)\n",
      "Y_train shape: (2620,)\n",
      "X_test shape: (656, 9)\n",
      "Y_test shape: (656,)\n"
     ]
    }
   ],
   "source": [
    "from sklearn.model_selection import train_test_split\n",
    "X_train, X_test, Y_train, Y_test = train_test_split(X, Y, test_size=0.2, random_state=42)\n",
    "\n",
    "# Display the shapes of the resulting sets\n",
    "print(\"X_train shape:\", X_train.shape)\n",
    "print(\"Y_train shape:\", Y_train.shape)\n",
    "print(\"X_test shape:\", X_test.shape)\n",
    "print(\"Y_test shape:\", Y_test.shape)"
   ]
  },
  {
   "cell_type": "code",
   "execution_count": 11,
   "id": "74cc8905",
   "metadata": {
    "execution": {
     "iopub.execute_input": "2024-07-30T14:20:22.800652Z",
     "iopub.status.busy": "2024-07-30T14:20:22.800050Z",
     "iopub.status.idle": "2024-07-30T14:20:23.062640Z",
     "shell.execute_reply": "2024-07-30T14:20:23.061890Z"
    },
    "papermill": {
     "duration": 0.271826,
     "end_time": "2024-07-30T14:20:23.064789",
     "exception": false,
     "start_time": "2024-07-30T14:20:22.792963",
     "status": "completed"
    },
    "tags": []
   },
   "outputs": [],
   "source": [
    "import pandas as pd\n",
    "from sklearn.model_selection import train_test_split\n",
    "from sklearn.linear_model import LogisticRegression\n",
    "from sklearn.ensemble import RandomForestClassifier\n",
    "from sklearn.svm import SVC\n",
    "from sklearn.tree import DecisionTreeClassifier\n",
    "from sklearn.metrics import accuracy_score"
   ]
  },
  {
   "cell_type": "code",
   "execution_count": 12,
   "id": "69b436b3",
   "metadata": {
    "execution": {
     "iopub.execute_input": "2024-07-30T14:20:23.078573Z",
     "iopub.status.busy": "2024-07-30T14:20:23.078286Z",
     "iopub.status.idle": "2024-07-30T14:20:24.525902Z",
     "shell.execute_reply": "2024-07-30T14:20:24.524937Z"
    },
    "papermill": {
     "duration": 1.456939,
     "end_time": "2024-07-30T14:20:24.528221",
     "exception": false,
     "start_time": "2024-07-30T14:20:23.071282",
     "status": "completed"
    },
    "tags": []
   },
   "outputs": [
    {
     "name": "stdout",
     "output_type": "stream",
     "text": [
      "Accuracy Scores:\n",
      "Logistic Regression: 0.6280\n",
      "Random Forest: 0.6738\n",
      "SVM: 0.6280\n",
      "Decision Tree: 0.5762\n"
     ]
    }
   ],
   "source": [
    "models = {\n",
    "    'Logistic Regression': LogisticRegression(random_state=42),\n",
    "    'Random Forest': RandomForestClassifier(random_state=42),\n",
    "    'SVM': SVC(random_state=42),\n",
    "    'Decision Tree': DecisionTreeClassifier(random_state=42)\n",
    "}\n",
    "\n",
    "# Train and evaluate each model\n",
    "results = {}\n",
    "for model_name, model in models.items():\n",
    "    model.fit(X_train, Y_train)\n",
    "    Y_pred = model.predict(X_test)\n",
    "    accuracy = accuracy_score(Y_test, Y_pred)  \n",
    "    results[model_name] = accuracy\n",
    "\n",
    "# Display results\n",
    "print(\"Accuracy Scores:\")\n",
    "for model_name, accuracy in results.items():\n",
    "    print(f\"{model_name}: {accuracy:.4f}\")"
   ]
  },
  {
   "cell_type": "code",
   "execution_count": 13,
   "id": "64671581",
   "metadata": {
    "execution": {
     "iopub.execute_input": "2024-07-30T14:20:24.544229Z",
     "iopub.status.busy": "2024-07-30T14:20:24.543845Z",
     "iopub.status.idle": "2024-07-30T14:20:24.549006Z",
     "shell.execute_reply": "2024-07-30T14:20:24.548116Z"
    },
    "papermill": {
     "duration": 0.01582,
     "end_time": "2024-07-30T14:20:24.551108",
     "exception": false,
     "start_time": "2024-07-30T14:20:24.535288",
     "status": "completed"
    },
    "tags": []
   },
   "outputs": [],
   "source": [
    "import pandas as pd\n",
    "from sklearn.model_selection import train_test_split, GridSearchCV\n",
    "from sklearn.linear_model import LogisticRegression\n",
    "from sklearn.ensemble import RandomForestClassifier\n",
    "from sklearn.svm import SVC\n",
    "from sklearn.tree import DecisionTreeClassifier\n",
    "from sklearn.metrics import accuracy_score"
   ]
  },
  {
   "cell_type": "code",
   "execution_count": 14,
   "id": "2950d039",
   "metadata": {
    "execution": {
     "iopub.execute_input": "2024-07-30T14:20:24.565421Z",
     "iopub.status.busy": "2024-07-30T14:20:24.565133Z",
     "iopub.status.idle": "2024-07-30T14:20:49.659721Z",
     "shell.execute_reply": "2024-07-30T14:20:49.658589Z"
    },
    "papermill": {
     "duration": 25.103971,
     "end_time": "2024-07-30T14:20:49.661835",
     "exception": false,
     "start_time": "2024-07-30T14:20:24.557864",
     "status": "completed"
    },
    "tags": []
   },
   "outputs": [
    {
     "name": "stdout",
     "output_type": "stream",
     "text": [
      "Grid Search CV Results:\n",
      "Model: Logistic Regression\n",
      "Best Parameters: {'C': 10.0}\n",
      "Accuracy: 0.6280\n",
      "\n",
      "Model: Random Forest\n",
      "Best Parameters: {'n_estimators': 200}\n",
      "Accuracy: 0.6814\n",
      "\n",
      "Model: SVM\n",
      "Best Parameters: {'C': 10.0, 'gamma': 'scale'}\n",
      "Accuracy: 0.6265\n",
      "\n",
      "Model: Decision Tree\n",
      "Best Parameters: {'max_depth': 10}\n",
      "Accuracy: 0.6143\n",
      "\n"
     ]
    }
   ],
   "source": [
    "\n",
    "# Define models with their respective parameter grids for GridSearchCV\n",
    "models = {\n",
    "    'Logistic Regression': (LogisticRegression(random_state=42), {'C': [0.1, 1.0, 10.0]}),\n",
    "    'Random Forest': (RandomForestClassifier(random_state=42), {'n_estimators': [50, 100, 200]}),\n",
    "    'SVM': (SVC(random_state=42), {'C': [0.1, 1.0, 10.0], 'gamma': ['scale', 'auto']}),\n",
    "    'Decision Tree': (DecisionTreeClassifier(random_state=42), {'max_depth': [None, 10, 20, 30]})\n",
    "}\n",
    "\n",
    "# Perform GridSearchCV for each model\n",
    "results = {}\n",
    "for model_name, (model, param_grid) in models.items():\n",
    "    grid_search = GridSearchCV(estimator=model, param_grid=param_grid, cv=5, scoring='accuracy')\n",
    "    grid_search.fit(X_train, Y_train)\n",
    "    best_model = grid_search.best_estimator_\n",
    "    Y_pred = best_model.predict(X_test)\n",
    "    accuracy = accuracy_score(Y_test, Y_pred)\n",
    "    results[model_name] = {\n",
    "        'best_params': grid_search.best_params_,\n",
    "        'accuracy': accuracy\n",
    "    }\n",
    "\n",
    "# Display results\n",
    "print(\"Grid Search CV Results:\")\n",
    "for model_name, result in results.items():\n",
    "    print(f\"Model: {model_name}\")\n",
    "    print(f\"Best Parameters: {result['best_params']}\")\n",
    "    print(f\"Accuracy: {result['accuracy']:.4f}\")\n",
    "    print()"
   ]
  },
  {
   "cell_type": "code",
   "execution_count": 15,
   "id": "309e7bdb",
   "metadata": {
    "execution": {
     "iopub.execute_input": "2024-07-30T14:20:49.677300Z",
     "iopub.status.busy": "2024-07-30T14:20:49.676964Z",
     "iopub.status.idle": "2024-07-30T14:21:56.451542Z",
     "shell.execute_reply": "2024-07-30T14:21:56.450608Z"
    },
    "papermill": {
     "duration": 66.784447,
     "end_time": "2024-07-30T14:21:56.453818",
     "exception": false,
     "start_time": "2024-07-30T14:20:49.669371",
     "status": "completed"
    },
    "tags": []
   },
   "outputs": [
    {
     "name": "stderr",
     "output_type": "stream",
     "text": [
      "/opt/conda/lib/python3.10/site-packages/sklearn/linear_model/_logistic.py:458: ConvergenceWarning: lbfgs failed to converge (status=1):\n",
      "STOP: TOTAL NO. of ITERATIONS REACHED LIMIT.\n",
      "\n",
      "Increase the number of iterations (max_iter) or scale the data as shown in:\n",
      "    https://scikit-learn.org/stable/modules/preprocessing.html\n",
      "Please also refer to the documentation for alternative solver options:\n",
      "    https://scikit-learn.org/stable/modules/linear_model.html#logistic-regression\n",
      "  n_iter_i = _check_optimize_result(\n",
      "/opt/conda/lib/python3.10/site-packages/sklearn/linear_model/_logistic.py:458: ConvergenceWarning: lbfgs failed to converge (status=1):\n",
      "STOP: TOTAL NO. of ITERATIONS REACHED LIMIT.\n",
      "\n",
      "Increase the number of iterations (max_iter) or scale the data as shown in:\n",
      "    https://scikit-learn.org/stable/modules/preprocessing.html\n",
      "Please also refer to the documentation for alternative solver options:\n",
      "    https://scikit-learn.org/stable/modules/linear_model.html#logistic-regression\n",
      "  n_iter_i = _check_optimize_result(\n",
      "/opt/conda/lib/python3.10/site-packages/sklearn/linear_model/_logistic.py:458: ConvergenceWarning: lbfgs failed to converge (status=1):\n",
      "STOP: TOTAL NO. of ITERATIONS REACHED LIMIT.\n",
      "\n",
      "Increase the number of iterations (max_iter) or scale the data as shown in:\n",
      "    https://scikit-learn.org/stable/modules/preprocessing.html\n",
      "Please also refer to the documentation for alternative solver options:\n",
      "    https://scikit-learn.org/stable/modules/linear_model.html#logistic-regression\n",
      "  n_iter_i = _check_optimize_result(\n",
      "/opt/conda/lib/python3.10/site-packages/sklearn/linear_model/_logistic.py:458: ConvergenceWarning: lbfgs failed to converge (status=1):\n",
      "STOP: TOTAL NO. of ITERATIONS REACHED LIMIT.\n",
      "\n",
      "Increase the number of iterations (max_iter) or scale the data as shown in:\n",
      "    https://scikit-learn.org/stable/modules/preprocessing.html\n",
      "Please also refer to the documentation for alternative solver options:\n",
      "    https://scikit-learn.org/stable/modules/linear_model.html#logistic-regression\n",
      "  n_iter_i = _check_optimize_result(\n",
      "/opt/conda/lib/python3.10/site-packages/sklearn/model_selection/_search.py:305: UserWarning: The total space of parameters 4 is smaller than n_iter=10. Running 4 iterations. For exhaustive searches, use GridSearchCV.\n",
      "  warnings.warn(\n"
     ]
    },
    {
     "name": "stdout",
     "output_type": "stream",
     "text": [
      "Randomized Search CV Results:\n",
      "Model: Logistic Regression\n",
      "Best Parameters: {'C': 3.845401188473625}\n",
      "Accuracy: 0.6280\n",
      "\n",
      "Model: Random Forest\n",
      "Best Parameters: {'n_estimators': 70}\n",
      "Accuracy: 0.6860\n",
      "\n",
      "Model: SVM\n",
      "Best Parameters: {'C': 6.086584841970366, 'gamma': 'scale'}\n",
      "Accuracy: 0.6265\n",
      "\n",
      "Model: Decision Tree\n",
      "Best Parameters: {'max_depth': 10}\n",
      "Accuracy: 0.6143\n",
      "\n"
     ]
    }
   ],
   "source": [
    "import pandas as pd\n",
    "from sklearn.model_selection import train_test_split, RandomizedSearchCV\n",
    "from sklearn.linear_model import LogisticRegression\n",
    "from sklearn.ensemble import RandomForestClassifier\n",
    "from sklearn.svm import SVC\n",
    "from sklearn.tree import DecisionTreeClassifier\n",
    "from sklearn.metrics import accuracy_score\n",
    "from scipy.stats import randint, uniform\n",
    "\n",
    "models = {\n",
    "    'Logistic Regression': (LogisticRegression(random_state=42), {'C': uniform(0.1, 10.0)}),\n",
    "    'Random Forest': (RandomForestClassifier(random_state=42), {'n_estimators': randint(50, 200)}),\n",
    "    'SVM': (SVC(random_state=42), {'C': uniform(0.1, 10.0), 'gamma': ['scale', 'auto']}),\n",
    "    'Decision Tree': (DecisionTreeClassifier(random_state=42), {'max_depth': [None, 10, 20, 30]})\n",
    "}\n",
    "\n",
    "# Perform RandomizedSearchCV for each model\n",
    "results = {}\n",
    "for model_name, (model, param_dist) in models.items():\n",
    "    random_search = RandomizedSearchCV(estimator=model, param_distributions=param_dist, n_iter=10, cv=5, scoring='accuracy', random_state=42)\n",
    "    random_search.fit(X_train, Y_train)\n",
    "    best_model = random_search.best_estimator_\n",
    "    Y_pred = best_model.predict(X_test)\n",
    "    accuracy = accuracy_score(Y_test, Y_pred)\n",
    "    results[model_name] = {\n",
    "        'best_params': random_search.best_params_,\n",
    "        'accuracy': accuracy\n",
    "    }\n",
    "\n",
    "# Display results\n",
    "print(\"Randomized Search CV Results:\")\n",
    "for model_name, result in results.items():\n",
    "    print(f\"Model: {model_name}\")\n",
    "    print(f\"Best Parameters: {result['best_params']}\")\n",
    "    print(f\"Accuracy: {result['accuracy']:.4f}\")\n",
    "    print()"
   ]
  },
  {
   "cell_type": "code",
   "execution_count": 16,
   "id": "179d5403",
   "metadata": {
    "execution": {
     "iopub.execute_input": "2024-07-30T14:21:56.468900Z",
     "iopub.status.busy": "2024-07-30T14:21:56.468579Z",
     "iopub.status.idle": "2024-07-30T14:22:03.253544Z",
     "shell.execute_reply": "2024-07-30T14:22:03.252573Z"
    },
    "papermill": {
     "duration": 6.794786,
     "end_time": "2024-07-30T14:22:03.255781",
     "exception": false,
     "start_time": "2024-07-30T14:21:56.460995",
     "status": "completed"
    },
    "tags": []
   },
   "outputs": [
    {
     "name": "stdout",
     "output_type": "stream",
     "text": [
      "Cross-validation Scores:\n",
      "Model: Logistic Regression\n",
      "Mean Accuracy: 0.6099\n",
      "Individual Fold Accuracies: [0.6097561  0.61068702 0.61068702 0.60916031 0.60916031]\n",
      "\n",
      "Model: Random Forest\n",
      "Mean Accuracy: 0.6407\n",
      "Individual Fold Accuracies: [0.61737805 0.65496183 0.64580153 0.59541985 0.69007634]\n",
      "\n",
      "Model: SVM\n",
      "Mean Accuracy: 0.6099\n",
      "Individual Fold Accuracies: [0.6097561  0.61068702 0.61068702 0.60916031 0.60916031]\n",
      "\n",
      "Model: Decision Tree\n",
      "Mean Accuracy: 0.5751\n",
      "Individual Fold Accuracies: [0.54573171 0.59541985 0.61374046 0.53435115 0.58625954]\n",
      "\n"
     ]
    }
   ],
   "source": [
    "from sklearn.model_selection import train_test_split, cross_val_score\n",
    "from numpy import mean\n",
    "\n",
    "models = {\n",
    "    'Logistic Regression': LogisticRegression(random_state=42),\n",
    "    'Random Forest': RandomForestClassifier(random_state=42),\n",
    "    'SVM': SVC(random_state=42),\n",
    "    'Decision Tree': DecisionTreeClassifier(random_state=42)\n",
    "}\n",
    "\n",
    "# Perform k-fold cross-validation for each model\n",
    "results = {}\n",
    "for model_name, model in models.items():\n",
    "    cv_scores = cross_val_score(model, X, Y, cv=5, scoring='accuracy')\n",
    "    results[model_name] = cv_scores\n",
    "\n",
    "# Display cross-validation results\n",
    "print(\"Cross-validation Scores:\")\n",
    "for model_name, scores in results.items():\n",
    "    print(f\"Model: {model_name}\")\n",
    "    print(f\"Mean Accuracy: {mean(scores):.4f}\")\n",
    "    print(f\"Individual Fold Accuracies: {scores}\")\n",
    "    print()"
   ]
  },
  {
   "cell_type": "code",
   "execution_count": null,
   "id": "0fc8e399",
   "metadata": {
    "papermill": {
     "duration": 0.006566,
     "end_time": "2024-07-30T14:22:03.269384",
     "exception": false,
     "start_time": "2024-07-30T14:22:03.262818",
     "status": "completed"
    },
    "tags": []
   },
   "outputs": [],
   "source": []
  },
  {
   "cell_type": "code",
   "execution_count": null,
   "id": "a7386184",
   "metadata": {
    "papermill": {
     "duration": 0.006498,
     "end_time": "2024-07-30T14:22:03.282678",
     "exception": false,
     "start_time": "2024-07-30T14:22:03.276180",
     "status": "completed"
    },
    "tags": []
   },
   "outputs": [],
   "source": []
  }
 ],
 "metadata": {
  "kaggle": {
   "accelerator": "gpu",
   "dataSources": [
    {
     "datasetId": 1292407,
     "sourceId": 2157486,
     "sourceType": "datasetVersion"
    }
   ],
   "dockerImageVersionId": 30747,
   "isGpuEnabled": true,
   "isInternetEnabled": true,
   "language": "python",
   "sourceType": "notebook"
  },
  "kernelspec": {
   "display_name": "Python 3",
   "language": "python",
   "name": "python3"
  },
  "language_info": {
   "codemirror_mode": {
    "name": "ipython",
    "version": 3
   },
   "file_extension": ".py",
   "mimetype": "text/x-python",
   "name": "python",
   "nbconvert_exporter": "python",
   "pygments_lexer": "ipython3",
   "version": "3.10.13"
  },
  "papermill": {
   "default_parameters": {},
   "duration": 106.022435,
   "end_time": "2024-07-30T14:22:03.808694",
   "environment_variables": {},
   "exception": null,
   "input_path": "__notebook__.ipynb",
   "output_path": "__notebook__.ipynb",
   "parameters": {},
   "start_time": "2024-07-30T14:20:17.786259",
   "version": "2.5.0"
  }
 },
 "nbformat": 4,
 "nbformat_minor": 5
}
